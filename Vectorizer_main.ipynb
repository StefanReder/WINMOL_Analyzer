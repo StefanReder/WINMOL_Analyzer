{
 "cells": [
  {
   "cell_type": "code",
   "execution_count": 4,
   "id": "9e04bbf5",
   "metadata": {},
   "outputs": [],
   "source": [
    "import rasterio.features\n",
    "import rasterio.plot as plot\n",
    "import json\n",
    "import os\n",
    "import sys\n",
    "import numpy as np\n",
    "\n",
    "import WINMOL_Analyzer as Analyzer\n",
    "from WINMOL_Analyzer import Timer\n",
    "\n",
    "from Config import Config\n",
    "\n",
    "# Root directory of the project\n",
    "ROOT_DIR = os.path.abspath(\".//\")\n",
    "\n",
    "sys.path.append(ROOT_DIR)\n",
    "\n",
    "# Directory to save logs and trained model\n",
    "model_dir = os.path.join(ROOT_DIR, \"model//\")\n",
    "\n",
    "# Directory to save logs and trained model\n",
    "pred_dir = os.path.join(ROOT_DIR, \"pred//\")\n",
    "\n",
    "# Directory to save logs and trained model\n",
    "output_dir = os.path.join(ROOT_DIR, \"output//\")"
   ]
  },
  {
   "cell_type": "code",
   "execution_count": 5,
   "id": "3b4c5630",
   "metadata": {},
   "outputs": [
    {
     "name": "stdout",
     "output_type": "stream",
     "text": [
      "\n",
      "Configurations:\n",
      "IMG_bit                        8\n",
      "IMG_height                     512\n",
      "IMG_width                      512\n",
      "max_distance                   8\n",
      "min_length                     2.0\n",
      "n_Channels                     3\n",
      "num_classes                    1\n",
      "overlapp_pred                  8\n",
      "padding                        1000\n",
      "tile_size                      15\n",
      "tolerance_angle                7\n",
      "\n",
      "\n"
     ]
    }
   ],
   "source": [
    "config = Config()\n",
    "config.display()"
   ]
  },
  {
   "cell_type": "code",
   "execution_count": 6,
   "id": "98b6ad84",
   "metadata": {},
   "outputs": [
    {
     "data": {
      "text/plain": [
       "'predic_20220209_Bremerhagen_2resampled.tiff'"
      ]
     },
     "execution_count": 6,
     "metadata": {},
     "output_type": "execute_result"
    }
   ],
   "source": [
    "img_list=os.listdir(pred_dir)\n",
    "img_name=img_list[0]\n",
    "img_name"
   ]
  },
  {
   "cell_type": "code",
   "execution_count": 4,
   "id": "a08878a5-714b-4750-bd6f-a4c221cb640b",
   "metadata": {},
   "outputs": [
    {
     "name": "stdout",
     "output_type": "stream",
     "text": [
      "#######################################################\n",
      "#######################################################\n",
      "\n",
      "P:\\WINMOL_Analyzer\\pred//predic_20220209_Bremerhagen_2resampled.tiff\n",
      "\n",
      "#######################################################\n",
      "Skeletonize Image\n",
      "Elapsed time: 0.3451 seconds\n",
      "#######################################################\n",
      "\n",
      "#######################################################\n",
      "Splitting the skeleton into segments and detecting endnodes\n",
      "Dense nodes removed:  8\n",
      "Brachpoints removed:  246\n",
      "Detected endnodes:  462\n",
      "Elapsed time: 6.5187 seconds\n",
      "#######################################################\n",
      "\n",
      "#######################################################\n",
      "Find connected segments in the skeleton\n",
      "Initial length of skeleton:  11167\n",
      "Number of endnodes 462\n",
      "Minimum length in pixel:  17\n",
      "Detected skeleton segments:  91\n",
      "Elapsed time: 17.2704 seconds\n",
      "#######################################################\n",
      "\n",
      "#######################################################\n",
      "#Refining and sorting out skeleton segments\n",
      "Initial length of skeleton:  10228\n",
      "Number of initial skeleton segments 91\n",
      "Number of split segments: 48\n",
      "Number of removed segments: 36\n",
      "Number of refined segments: 103\n",
      "Elapsed time: 10.2273 seconds\n",
      "#######################################################\n",
      "\n",
      "#######################################################\n",
      "Restoring geoinformation\n",
      "Elapsed time: 0.0005 seconds\n",
      "#######################################################\n",
      "\n",
      "#######################################################\n",
      "Build stem segments\n",
      "103 stems segments build\n",
      "Elapsed time: 0.0028 seconds\n",
      "#######################################################\n",
      "\n",
      "#######################################################\n",
      "Gethering stem segments \n",
      "Cycle  1\n",
      "Cycle  2\n",
      "\n",
      "103 stem segments analyzed\n",
      "39 stem segments appended to other stems\n",
      "52 duplicates are removed\n",
      "21 stem fragments with a length less than  2.0 m are filtered out\n",
      "final number of stems 30\n",
      "Elapsed time: 15.1956 seconds\n",
      "#######################################################\n",
      "\n",
      "#######################################################\n",
      "Rebuild endnodes from stems\n",
      "Elapsed time: 0.0011 seconds\n",
      "#######################################################\n",
      "\n",
      "#######################################################\n",
      "Quantifying stems\n",
      "550  measurements of diameters where conducted\n",
      "Volume of  30  stems calculated\n",
      "Elapsed time: 25.1490 seconds\n",
      "#######################################################\n",
      "\n",
      "#######################################################\n",
      "Export to GeoJSON\n",
      "Wrote P:\\WINMOL_Analyzer\\output//predic_20220209_Bremerhagen_2resampled_stems.geojson\n",
      "Wrote P:\\WINMOL_Analyzer\\output//predic_20220209_Bremerhagen_2resampled_nodes.geojson\n",
      "Wrote P:\\WINMOL_Analyzer\\output//predic_20220209_Bremerhagen_2resampled_vectors.geojson\n",
      "#######################################################\n",
      "\n",
      "Elapsed time: 75.5590 seconds\n"
     ]
    }
   ],
   "source": [
    "tt = Timer()\n",
    "tt.start()\n",
    "\n",
    "pred, crs, bounds, px_size =Analyzer.IO.load_stem_map(pred_dir+img_name, config.padding)\n",
    "segments = Analyzer.Skel.find_segments(pred, config.min_length/4, px_size, config.padding,verbose=0)\n",
    "segments = Analyzer.Vec.restore_geoinformation(segments, bounds, px_size, config.padding)\n",
    "stems = Analyzer.Vec.build_stem_parts(segments, verbose=0)\n",
    "stems = Analyzer.Vec.connect_stems(stems,config, verbose=0)  \n",
    "endnodes = Analyzer.Vec.rebuild_endnodes_from_stems(stems)   \n",
    "stems = Analyzer.Quant.quantify_stems(stems, pred, px_size, bounds,pred_dir+img_name)\n",
    "Analyzer.IO.stems_to_geojson(stems, output_dir+ os.path.splitext(os.path.basename(img_name))[0])\n",
    "\n",
    "tt.stop()    "
   ]
  }
 ],
 "metadata": {
  "kernelspec": {
   "display_name": "WINMOL_Analyzer",
   "language": "python",
   "name": "winmol_analyzer"
  },
  "language_info": {
   "codemirror_mode": {
    "name": "ipython",
    "version": 3
   },
   "file_extension": ".py",
   "mimetype": "text/x-python",
   "name": "python",
   "nbconvert_exporter": "python",
   "pygments_lexer": "ipython3",
   "version": "3.10.0"
  }
 },
 "nbformat": 4,
 "nbformat_minor": 5
}
