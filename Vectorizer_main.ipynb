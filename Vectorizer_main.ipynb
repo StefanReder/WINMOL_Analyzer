{
 "cells": [
  {
   "cell_type": "code",
   "execution_count": 1,
   "id": "9e04bbf5",
   "metadata": {},
   "outputs": [],
   "source": [
    "import rasterio.features\n",
    "import rasterio.plot as plot\n",
    "import json\n",
    "import os\n",
    "import sys\n",
    "import numpy as np\n",
    "\n",
    "import WINMOL_Analyzer as Analyzer\n",
    "from WINMOL_Analyzer import Timer\n",
    "\n",
    "from Config import Config\n",
    "\n",
    "# Root directory of the project\n",
    "ROOT_DIR = os.path.abspath(\".//\")\n",
    "\n",
    "sys.path.append(ROOT_DIR)\n",
    "\n",
    "# Directory to save logs and trained model\n",
    "model_dir = os.path.join(ROOT_DIR, \"model//\")\n",
    "\n",
    "# Directory to save logs and trained model\n",
    "pred_dir = os.path.join(ROOT_DIR, \"pred//\")\n",
    "\n",
    "# Directory to save logs and trained model\n",
    "output_dir = os.path.join(ROOT_DIR, \"output//\")"
   ]
  },
  {
   "cell_type": "code",
   "execution_count": 2,
   "id": "3b4c5630",
   "metadata": {},
   "outputs": [
    {
     "name": "stdout",
     "output_type": "stream",
     "text": [
      "\n",
      "Configurations:\n",
      "IMG_bit                        8\n",
      "IMG_height                     512\n",
      "IMG_width                      512\n",
      "max_distance                   8\n",
      "min_length                     2.0\n",
      "n_Channels                     3\n",
      "num_classes                    1\n",
      "overlapp_pred                  8\n",
      "padding                        1000\n",
      "tile_size                      15\n",
      "tolerance_angle                7\n",
      "\n",
      "\n"
     ]
    }
   ],
   "source": [
    "config = Config()\n",
    "config.display()"
   ]
  },
  {
   "cell_type": "code",
   "execution_count": 5,
   "id": "d46de930",
   "metadata": {},
   "outputs": [
    {
     "data": {
      "text/plain": [
       "10"
      ]
     },
     "execution_count": 5,
     "metadata": {},
     "output_type": "execute_result"
    }
   ],
   "source": [
    "config.padding"
   ]
  },
  {
   "cell_type": "code",
   "execution_count": 6,
   "id": "98b6ad84",
   "metadata": {},
   "outputs": [
    {
     "data": {
      "text/plain": [
       "'pred_.tiff.tiff'"
      ]
     },
     "execution_count": 6,
     "metadata": {},
     "output_type": "execute_result"
    }
   ],
   "source": [
    "img_list=os.listdir(pred_dir)\n",
    "img_name=img_list[0]\n",
    "img_name"
   ]
  },
  {
   "cell_type": "code",
   "execution_count": null,
   "id": "a08878a5-714b-4750-bd6f-a4c221cb640b",
   "metadata": {},
   "outputs": [
    {
     "name": "stdout",
     "output_type": "stream",
     "text": [
      "#######################################################\n",
      "#######################################################\n",
      "\n",
      "P:\\WINMOL_Analyzer\\pred//pred_.tiff.tiff\n",
      "\n",
      "#######################################################\n",
      "Skeletonize Image\n",
      "Elapsed time: 1.3472 seconds\n",
      "#######################################################\n",
      "\n",
      "#######################################################\n",
      "Splitting the skeleton into segments and detecting endnodes\n",
      "Dense nodes removed:  215\n",
      "Brachpoints removed:  4706\n",
      "Detected endnodes:  7022\n",
      "Elapsed time: 18.3233 seconds\n",
      "#######################################################\n",
      "\n",
      "#######################################################\n",
      "Find connected segments in the skeleton\n",
      "Initial length of skeleton:  156732\n",
      "Number of endnodes 7022\n",
      "Minimum length in pixel:  17\n"
     ]
    }
   ],
   "source": [
    "tt = Timer()\n",
    "tt.start()\n",
    "\n",
    "pred, crs, bounds, px_size =Analyzer.IO.load_stem_map(pred_dir+img_name)\n",
    "pred=Analyzer.IO.add_padding_to_stem_map(pred, config.padding)\n",
    "segments = Analyzer.Skel.find_segments(pred, config.min_length/4, px_size, config.padding)\n",
    "segments = Analyzer.Vec.restore_geoinformation(segments, bounds, px_size, config.padding)\n",
    "stems = Analyzer.Vec.build_stem_parts(segments)\n",
    "stems = Analyzer.Vec.connect_stems(stems,config)  \n",
    "endnodes = Analyzer.Vec.rebuild_endnodes_from_stems(stems)   \n",
    "stems = Analyzer.Quant.quantify_stems(stems, pred, px_size, bounds,pred_dir+img_name)\n",
    "Analyzer.IO.stems_to_geojson(stems, output_dir+ os.path.splitext(os.path.basename(img_name))[0])\n",
    "\n",
    "tt.stop()    "
   ]
  },
  {
   "cell_type": "code",
   "execution_count": null,
   "id": "e93be04b",
   "metadata": {},
   "outputs": [],
   "source": []
  }
 ],
 "metadata": {
  "kernelspec": {
   "display_name": "WINMOL_Analyzer",
   "language": "python",
   "name": "winmol_analyzer"
  },
  "language_info": {
   "codemirror_mode": {
    "name": "ipython",
    "version": 3
   },
   "file_extension": ".py",
   "mimetype": "text/x-python",
   "name": "python",
   "nbconvert_exporter": "python",
   "pygments_lexer": "ipython3",
   "version": "3.10.0"
  }
 },
 "nbformat": 4,
 "nbformat_minor": 5
}
