{
 "cells": [
  {
   "cell_type": "code",
   "execution_count": 1,
   "id": "9e04bbf5",
   "metadata": {},
   "outputs": [],
   "source": [
    "import rasterio.features\n",
    "import rasterio.plot as plot\n",
    "import json\n",
    "import os\n",
    "import sys\n",
    "import numpy as np\n",
    "\n",
    "import WINMOL_Analyzer as Analyzer\n",
    "from WINMOL_Analyzer import Timer\n",
    "\n",
    "from Config import Config\n",
    "\n",
    "# Root directory of the project\n",
    "ROOT_DIR = os.path.abspath(\".//\")\n",
    "\n",
    "sys.path.append(ROOT_DIR)\n",
    "\n",
    "# Directory to save logs and trained model\n",
    "model_dir = os.path.join(ROOT_DIR, \"model//\")\n",
    "\n",
    "# Directory to save logs and trained model\n",
    "pred_dir = os.path.join(ROOT_DIR, \"pred//\")\n",
    "\n",
    "# Directory to save logs and trained model\n",
    "output_dir = os.path.join(ROOT_DIR, \"output//\")"
   ]
  },
  {
   "cell_type": "code",
   "execution_count": 2,
   "id": "3b4c5630",
   "metadata": {},
   "outputs": [
    {
     "name": "stdout",
     "output_type": "stream",
     "text": [
      "\n",
      "Configurations:\n",
      "IMG_bit                        8\n",
      "IMG_height                     512\n",
      "IMG_width                      512\n",
      "max_distance                   8\n",
      "max_tree_height                32\n",
      "min_length                     2.0\n",
      "n_Channels                     3\n",
      "num_classes                    1\n",
      "overlapp_pred                  8\n",
      "tile_size                      15\n",
      "tolerance_angle                7\n",
      "\n",
      "\n"
     ]
    }
   ],
   "source": [
    "config = Config()\n",
    "config.display()"
   ]
  },
  {
   "cell_type": "code",
   "execution_count": 3,
   "id": "98b6ad84",
   "metadata": {},
   "outputs": [
    {
     "data": {
      "text/plain": [
       "'pred_20220209_Bremerhagen_2.tiff'"
      ]
     },
     "execution_count": 3,
     "metadata": {},
     "output_type": "execute_result"
    }
   ],
   "source": [
    "img_list=os.listdir(pred_dir)\n",
    "img_list= [i for i in img_list if i.endswith((\".tiff\",\".tif\")) ]\n",
    "img_name=img_list[0]\n",
    "img_name"
   ]
  },
  {
   "cell_type": "code",
   "execution_count": 5,
   "id": "a08878a5-714b-4750-bd6f-a4c221cb640b",
   "metadata": {},
   "outputs": [
    {
     "name": "stdout",
     "output_type": "stream",
     "text": [
      "#######################################################\n",
      "#######################################################\n",
      "\n",
      "P:\\WINMOL_Analyzer\\pred//pred_20220209_Bremerhagen_2.tiff\n",
      "\n",
      "#######################################################\n",
      "Skeletonize Image\n",
      "Elapsed time: 0.5253 seconds\n",
      "#######################################################\n",
      "\n",
      "#######################################################\n",
      "Splitting the skeleton into segments and detecting endnodes\n",
      "Dense nodes removed:  12\n",
      "Brachpoints removed:  261\n",
      "Detected endnodes:  454\n",
      "Elapsed time: 8.2224 seconds\n",
      "#######################################################\n",
      "\n",
      "#######################################################\n",
      "Find connected segments in the skeleton\n",
      "Initial length of skeleton:  9921\n",
      "Number of endnodes 454\n",
      "Minimum length in pixel:  17\n",
      "Detected skeleton segments:  93\n",
      "Elapsed time: 17.5046 seconds\n",
      "#######################################################\n",
      "\n",
      "#######################################################\n",
      "#Refining and sorting out skeleton segments\n",
      "Initial length of skeleton:  9165\n",
      "Number of initial skeleton segments 93\n",
      "Number of split segments: 46\n",
      "Number of removed segments: 38\n",
      "Number of refined segments: 101\n",
      "Elapsed time: 8.8303 seconds\n",
      "#######################################################\n",
      "\n",
      "#######################################################\n",
      "Restoring geoinformation\n",
      "Elapsed time: 0.0006 seconds\n",
      "#######################################################\n",
      "\n",
      "#######################################################\n",
      "Build stem segments\n",
      "101 stems segments build\n",
      "Elapsed time: 0.0030 seconds\n",
      "#######################################################\n",
      "\n",
      "#######################################################\n",
      "Gethering stem segments \n",
      "Cycle  1\n",
      "Cycle  2\n",
      "\n",
      "101 stem segments analyzed\n",
      "43 stem segments appended to other stems\n",
      "49 duplicates are removed\n",
      "21 stem fragments with a length less than  2.0 m are filtered out\n",
      "final number of stems 31\n",
      "Elapsed time: 14.3068 seconds\n",
      "#######################################################\n",
      "\n",
      "#######################################################\n",
      "Rebuild endnodes from stems\n",
      "Elapsed time: 0.0009 seconds\n",
      "#######################################################\n",
      "\n",
      "#######################################################\n",
      "Quantifying stems\n",
      "509  measurements of diameters where conducted\n",
      "Volume of  31  stems calculated\n",
      "Elapsed time: 19.4655 seconds\n",
      "#######################################################\n",
      "\n",
      "#######################################################\n",
      "Export to GeoJSON\n",
      "Wrote P:\\WINMOL_Analyzer\\output//pred_20220209_Bremerhagen_2_stems.geojson\n",
      "Wrote P:\\WINMOL_Analyzer\\output//pred_20220209_Bremerhagen_2_nodes.geojson\n",
      "Wrote P:\\WINMOL_Analyzer\\output//pred_20220209_Bremerhagen_2_vectors.geojson\n",
      "#######################################################\n",
      "\n",
      "Elapsed time: 69.6297 seconds\n"
     ]
    }
   ],
   "source": [
    "tt = Timer()\n",
    "tt.start()\n",
    "\n",
    "pred, profile =Analyzer.IO.load_stem_map(pred_dir+img_name)\n",
    "segments = Analyzer.Skel.find_segments(pred, config, profile)\n",
    "segments = Analyzer.Vec.restore_geoinformation(segments, config, profile)\n",
    "stems = Analyzer.Vec.build_stem_parts(segments)\n",
    "stems = Analyzer.Vec.connect_stems(stems,config)  \n",
    "endnodes = Analyzer.Vec.rebuild_endnodes_from_stems(stems)   \n",
    "stems = Analyzer.Quant.quantify_stems(stems, pred, profile)\n",
    "Analyzer.IO.stems_to_geojson(stems, output_dir+ os.path.splitext(os.path.basename(img_name))[0])\n",
    "\n",
    "tt.stop()    "
   ]
  },
  {
   "cell_type": "code",
   "execution_count": null,
   "id": "e93be04b",
   "metadata": {},
   "outputs": [],
   "source": []
  }
 ],
 "metadata": {
  "kernelspec": {
   "display_name": "WINMOL_Analyzer",
   "language": "python",
   "name": "winmol_analyzer"
  },
  "language_info": {
   "codemirror_mode": {
    "name": "ipython",
    "version": 3
   },
   "file_extension": ".py",
   "mimetype": "text/x-python",
   "name": "python",
   "nbconvert_exporter": "python",
   "pygments_lexer": "ipython3",
   "version": "3.10.0"
  }
 },
 "nbformat": 4,
 "nbformat_minor": 5
}
